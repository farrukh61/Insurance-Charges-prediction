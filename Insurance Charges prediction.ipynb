{
  "cells": [
    {
      "cell_type": "markdown",
      "metadata": {
        "id": "view-in-github",
        "colab_type": "text"
      },
      "source": [
        "<a href=\"https://colab.research.google.com/github/farrukh61/Insurance-Charges-prediction/blob/main/Insurance%20Charges%20prediction.ipynb\" target=\"_parent\"><img src=\"https://colab.research.google.com/assets/colab-badge.svg\" alt=\"Open In Colab\"/></a>"
      ]
    },
    {
      "cell_type": "code",
      "execution_count": null,
      "id": "fcd4684e",
      "metadata": {
        "id": "fcd4684e"
      },
      "outputs": [],
      "source": [
        "import pandas as pd\n",
        "import numpy as np\n",
        "from matplotlib import pyplot as plt\n",
        "import matplotlib\n",
        "import seaborn as sns\n",
        "import statsmodels.api as sm\n",
        "\n",
        "# matplotlib.rcParams['figure.figsize'] = (20,10)"
      ]
    },
    {
      "cell_type": "code",
      "execution_count": null,
      "id": "f0489b8c",
      "metadata": {
        "id": "f0489b8c"
      },
      "outputs": [],
      "source": [
        "df1 = pd.read_csv('insurance.csv')"
      ]
    },
    {
      "cell_type": "code",
      "execution_count": null,
      "id": "7a329858",
      "metadata": {
        "id": "7a329858",
        "outputId": "7992a6ef-667e-4906-d3fe-07cd42189ab7"
      },
      "outputs": [
        {
          "data": {
            "text/html": [
              "<div>\n",
              "<style scoped>\n",
              "    .dataframe tbody tr th:only-of-type {\n",
              "        vertical-align: middle;\n",
              "    }\n",
              "\n",
              "    .dataframe tbody tr th {\n",
              "        vertical-align: top;\n",
              "    }\n",
              "\n",
              "    .dataframe thead th {\n",
              "        text-align: right;\n",
              "    }\n",
              "</style>\n",
              "<table border=\"1\" class=\"dataframe\">\n",
              "  <thead>\n",
              "    <tr style=\"text-align: right;\">\n",
              "      <th></th>\n",
              "      <th>age</th>\n",
              "      <th>sex</th>\n",
              "      <th>bmi</th>\n",
              "      <th>children</th>\n",
              "      <th>smoker</th>\n",
              "      <th>region</th>\n",
              "      <th>charges</th>\n",
              "    </tr>\n",
              "  </thead>\n",
              "  <tbody>\n",
              "    <tr>\n",
              "      <th>0</th>\n",
              "      <td>19</td>\n",
              "      <td>female</td>\n",
              "      <td>27.900</td>\n",
              "      <td>0</td>\n",
              "      <td>yes</td>\n",
              "      <td>southwest</td>\n",
              "      <td>16884.92400</td>\n",
              "    </tr>\n",
              "    <tr>\n",
              "      <th>1</th>\n",
              "      <td>18</td>\n",
              "      <td>male</td>\n",
              "      <td>33.770</td>\n",
              "      <td>1</td>\n",
              "      <td>no</td>\n",
              "      <td>southeast</td>\n",
              "      <td>1725.55230</td>\n",
              "    </tr>\n",
              "    <tr>\n",
              "      <th>2</th>\n",
              "      <td>28</td>\n",
              "      <td>male</td>\n",
              "      <td>33.000</td>\n",
              "      <td>3</td>\n",
              "      <td>no</td>\n",
              "      <td>southeast</td>\n",
              "      <td>4449.46200</td>\n",
              "    </tr>\n",
              "    <tr>\n",
              "      <th>3</th>\n",
              "      <td>33</td>\n",
              "      <td>male</td>\n",
              "      <td>22.705</td>\n",
              "      <td>0</td>\n",
              "      <td>no</td>\n",
              "      <td>northwest</td>\n",
              "      <td>21984.47061</td>\n",
              "    </tr>\n",
              "    <tr>\n",
              "      <th>4</th>\n",
              "      <td>32</td>\n",
              "      <td>male</td>\n",
              "      <td>28.880</td>\n",
              "      <td>0</td>\n",
              "      <td>no</td>\n",
              "      <td>northwest</td>\n",
              "      <td>3866.85520</td>\n",
              "    </tr>\n",
              "  </tbody>\n",
              "</table>\n",
              "</div>"
            ],
            "text/plain": [
              "   age     sex     bmi  children smoker     region      charges\n",
              "0   19  female  27.900         0    yes  southwest  16884.92400\n",
              "1   18    male  33.770         1     no  southeast   1725.55230\n",
              "2   28    male  33.000         3     no  southeast   4449.46200\n",
              "3   33    male  22.705         0     no  northwest  21984.47061\n",
              "4   32    male  28.880         0     no  northwest   3866.85520"
            ]
          },
          "execution_count": 3,
          "metadata": {},
          "output_type": "execute_result"
        }
      ],
      "source": [
        "df1.head()"
      ]
    },
    {
      "cell_type": "code",
      "execution_count": null,
      "id": "4debd867",
      "metadata": {
        "id": "4debd867",
        "outputId": "e32eae2d-ca41-4a40-cbaf-9e32f01531ae"
      },
      "outputs": [
        {
          "data": {
            "text/plain": [
              "(1338, 7)"
            ]
          },
          "execution_count": 4,
          "metadata": {},
          "output_type": "execute_result"
        }
      ],
      "source": [
        "df1.shape"
      ]
    },
    {
      "cell_type": "markdown",
      "id": "481d2471",
      "metadata": {
        "id": "481d2471"
      },
      "source": [
        "# Exploring the features"
      ]
    },
    {
      "cell_type": "code",
      "execution_count": null,
      "id": "ed924dda",
      "metadata": {
        "id": "ed924dda",
        "outputId": "564944df-303e-4bc7-d5e4-c25d3fda700b"
      },
      "outputs": [
        {
          "data": {
            "text/plain": [
              "Index(['age', 'sex', 'bmi', 'children', 'smoker', 'region', 'charges'], dtype='object')"
            ]
          },
          "execution_count": 5,
          "metadata": {},
          "output_type": "execute_result"
        }
      ],
      "source": [
        "df1.keys()"
      ]
    },
    {
      "cell_type": "code",
      "execution_count": null,
      "id": "f00e6fdc",
      "metadata": {
        "id": "f00e6fdc",
        "outputId": "1b1fac5d-81b7-4f2e-c12e-b386f478ca18"
      },
      "outputs": [
        {
          "data": {
            "text/plain": [
              "array(['southwest', 'southeast', 'northwest', 'northeast'], dtype=object)"
            ]
          },
          "execution_count": 6,
          "metadata": {},
          "output_type": "execute_result"
        }
      ],
      "source": [
        "df1.region.unique()"
      ]
    },
    {
      "cell_type": "markdown",
      "id": "20d5c1fb",
      "metadata": {
        "id": "20d5c1fb"
      },
      "source": [
        "Six unique regions"
      ]
    },
    {
      "cell_type": "code",
      "execution_count": null,
      "id": "3017dbb6",
      "metadata": {
        "id": "3017dbb6",
        "outputId": "7e55569b-fee8-4cf4-e046-93c598b3a2b6"
      },
      "outputs": [
        {
          "data": {
            "text/plain": [
              "region\n",
              "northeast    324\n",
              "northwest    325\n",
              "southeast    364\n",
              "southwest    325\n",
              "Name: region, dtype: int64"
            ]
          },
          "execution_count": 7,
          "metadata": {},
          "output_type": "execute_result"
        }
      ],
      "source": [
        "df1.groupby('region')['region'].agg('count')"
      ]
    },
    {
      "cell_type": "code",
      "execution_count": null,
      "id": "e58e7ea4",
      "metadata": {
        "id": "e58e7ea4",
        "outputId": "ba67f470-3cad-47b2-8a93-dc59f1681014"
      },
      "outputs": [
        {
          "data": {
            "text/plain": [
              "array([0, 1, 3, 2, 5, 4], dtype=int64)"
            ]
          },
          "execution_count": 8,
          "metadata": {},
          "output_type": "execute_result"
        }
      ],
      "source": [
        "df1.children.unique()"
      ]
    },
    {
      "cell_type": "code",
      "execution_count": null,
      "id": "bc8d2785",
      "metadata": {
        "id": "bc8d2785",
        "outputId": "e479b11c-d5f0-40ff-8dde-4dbd5102835f"
      },
      "outputs": [
        {
          "data": {
            "text/plain": [
              "array(['female', 'male'], dtype=object)"
            ]
          },
          "execution_count": 9,
          "metadata": {},
          "output_type": "execute_result"
        }
      ],
      "source": [
        "df1.sex.unique()"
      ]
    },
    {
      "cell_type": "code",
      "execution_count": null,
      "id": "825c7cd4",
      "metadata": {
        "id": "825c7cd4",
        "outputId": "2fcd247c-d82a-47f1-e9a2-c9a72c5df22a"
      },
      "outputs": [
        {
          "data": {
            "text/plain": [
              "array([19, 18, 28, 33, 32, 31, 46, 37, 60, 25, 62, 23, 56, 27, 52, 30, 34,\n",
              "       59, 63, 55, 22, 26, 35, 24, 41, 38, 36, 21, 48, 40, 58, 53, 43, 64,\n",
              "       20, 61, 44, 57, 29, 45, 54, 49, 47, 51, 42, 50, 39], dtype=int64)"
            ]
          },
          "execution_count": 10,
          "metadata": {},
          "output_type": "execute_result"
        }
      ],
      "source": [
        "df1.age.unique()"
      ]
    },
    {
      "cell_type": "markdown",
      "id": "b8f4ba0a",
      "metadata": {
        "id": "b8f4ba0a"
      },
      "source": [
        "# Data Cleaning"
      ]
    },
    {
      "cell_type": "code",
      "execution_count": null,
      "id": "47fbc0fd",
      "metadata": {
        "id": "47fbc0fd",
        "outputId": "7d9227f2-fd4d-47dc-950d-4bbf92478513"
      },
      "outputs": [
        {
          "data": {
            "text/plain": [
              "age         0\n",
              "sex         0\n",
              "bmi         0\n",
              "children    0\n",
              "smoker      0\n",
              "region      0\n",
              "charges     0\n",
              "dtype: int64"
            ]
          },
          "execution_count": 11,
          "metadata": {},
          "output_type": "execute_result"
        }
      ],
      "source": [
        "## Check for Null data\n",
        "df1.isnull().sum()"
      ]
    },
    {
      "cell_type": "markdown",
      "id": "69062455",
      "metadata": {
        "id": "69062455"
      },
      "source": [
        "There are no null values in given data"
      ]
    },
    {
      "cell_type": "markdown",
      "id": "15322054",
      "metadata": {
        "id": "15322054"
      },
      "source": [
        "# Conversion:categorical Data into numerical data"
      ]
    },
    {
      "cell_type": "markdown",
      "id": "86d8ae73",
      "metadata": {
        "id": "86d8ae73"
      },
      "source": [
        "Considering above exploration, there seem no expceptions in the given data"
      ]
    },
    {
      "cell_type": "code",
      "execution_count": null,
      "id": "abbc8f8f",
      "metadata": {
        "id": "abbc8f8f"
      },
      "outputs": [],
      "source": [
        "## using dummy variables"
      ]
    },
    {
      "cell_type": "code",
      "execution_count": null,
      "id": "17891906",
      "metadata": {
        "id": "17891906",
        "outputId": "198ed775-f8c3-498a-89cf-16a1aa76d62d"
      },
      "outputs": [
        {
          "data": {
            "text/html": [
              "<div>\n",
              "<style scoped>\n",
              "    .dataframe tbody tr th:only-of-type {\n",
              "        vertical-align: middle;\n",
              "    }\n",
              "\n",
              "    .dataframe tbody tr th {\n",
              "        vertical-align: top;\n",
              "    }\n",
              "\n",
              "    .dataframe thead th {\n",
              "        text-align: right;\n",
              "    }\n",
              "</style>\n",
              "<table border=\"1\" class=\"dataframe\">\n",
              "  <thead>\n",
              "    <tr style=\"text-align: right;\">\n",
              "      <th></th>\n",
              "      <th>sex_male</th>\n",
              "      <th>smoker_yes</th>\n",
              "      <th>region_northwest</th>\n",
              "      <th>region_southeast</th>\n",
              "      <th>region_southwest</th>\n",
              "    </tr>\n",
              "  </thead>\n",
              "  <tbody>\n",
              "    <tr>\n",
              "      <th>0</th>\n",
              "      <td>0</td>\n",
              "      <td>1</td>\n",
              "      <td>0</td>\n",
              "      <td>0</td>\n",
              "      <td>1</td>\n",
              "    </tr>\n",
              "    <tr>\n",
              "      <th>1</th>\n",
              "      <td>1</td>\n",
              "      <td>0</td>\n",
              "      <td>0</td>\n",
              "      <td>1</td>\n",
              "      <td>0</td>\n",
              "    </tr>\n",
              "    <tr>\n",
              "      <th>2</th>\n",
              "      <td>1</td>\n",
              "      <td>0</td>\n",
              "      <td>0</td>\n",
              "      <td>1</td>\n",
              "      <td>0</td>\n",
              "    </tr>\n",
              "    <tr>\n",
              "      <th>3</th>\n",
              "      <td>1</td>\n",
              "      <td>0</td>\n",
              "      <td>1</td>\n",
              "      <td>0</td>\n",
              "      <td>0</td>\n",
              "    </tr>\n",
              "    <tr>\n",
              "      <th>4</th>\n",
              "      <td>1</td>\n",
              "      <td>0</td>\n",
              "      <td>1</td>\n",
              "      <td>0</td>\n",
              "      <td>0</td>\n",
              "    </tr>\n",
              "  </tbody>\n",
              "</table>\n",
              "</div>"
            ],
            "text/plain": [
              "   sex_male  smoker_yes  region_northwest  region_southeast  region_southwest\n",
              "0         0           1                 0                 0                 1\n",
              "1         1           0                 0                 1                 0\n",
              "2         1           0                 0                 1                 0\n",
              "3         1           0                 1                 0                 0\n",
              "4         1           0                 1                 0                 0"
            ]
          },
          "execution_count": 13,
          "metadata": {},
          "output_type": "execute_result"
        }
      ],
      "source": [
        "\n",
        "dummy = pd.get_dummies(df1[['sex', 'smoker', 'region']], columns=['sex', 'smoker', 'region'],drop_first=True)\n",
        "dummy.head()"
      ]
    },
    {
      "cell_type": "code",
      "execution_count": null,
      "id": "54b512ee",
      "metadata": {
        "id": "54b512ee"
      },
      "outputs": [],
      "source": [
        "df2 = pd.concat([df1,dummy],axis = 1)"
      ]
    },
    {
      "cell_type": "code",
      "execution_count": null,
      "id": "9d6168d2",
      "metadata": {
        "id": "9d6168d2",
        "outputId": "50a9e97c-45e2-4749-e41b-01960d0227a1"
      },
      "outputs": [
        {
          "data": {
            "text/html": [
              "<div>\n",
              "<style scoped>\n",
              "    .dataframe tbody tr th:only-of-type {\n",
              "        vertical-align: middle;\n",
              "    }\n",
              "\n",
              "    .dataframe tbody tr th {\n",
              "        vertical-align: top;\n",
              "    }\n",
              "\n",
              "    .dataframe thead th {\n",
              "        text-align: right;\n",
              "    }\n",
              "</style>\n",
              "<table border=\"1\" class=\"dataframe\">\n",
              "  <thead>\n",
              "    <tr style=\"text-align: right;\">\n",
              "      <th></th>\n",
              "      <th>age</th>\n",
              "      <th>sex</th>\n",
              "      <th>bmi</th>\n",
              "      <th>children</th>\n",
              "      <th>smoker</th>\n",
              "      <th>region</th>\n",
              "      <th>charges</th>\n",
              "      <th>sex_male</th>\n",
              "      <th>smoker_yes</th>\n",
              "      <th>region_northwest</th>\n",
              "      <th>region_southeast</th>\n",
              "      <th>region_southwest</th>\n",
              "    </tr>\n",
              "  </thead>\n",
              "  <tbody>\n",
              "    <tr>\n",
              "      <th>0</th>\n",
              "      <td>19</td>\n",
              "      <td>female</td>\n",
              "      <td>27.900</td>\n",
              "      <td>0</td>\n",
              "      <td>yes</td>\n",
              "      <td>southwest</td>\n",
              "      <td>16884.92400</td>\n",
              "      <td>0</td>\n",
              "      <td>1</td>\n",
              "      <td>0</td>\n",
              "      <td>0</td>\n",
              "      <td>1</td>\n",
              "    </tr>\n",
              "    <tr>\n",
              "      <th>1</th>\n",
              "      <td>18</td>\n",
              "      <td>male</td>\n",
              "      <td>33.770</td>\n",
              "      <td>1</td>\n",
              "      <td>no</td>\n",
              "      <td>southeast</td>\n",
              "      <td>1725.55230</td>\n",
              "      <td>1</td>\n",
              "      <td>0</td>\n",
              "      <td>0</td>\n",
              "      <td>1</td>\n",
              "      <td>0</td>\n",
              "    </tr>\n",
              "    <tr>\n",
              "      <th>2</th>\n",
              "      <td>28</td>\n",
              "      <td>male</td>\n",
              "      <td>33.000</td>\n",
              "      <td>3</td>\n",
              "      <td>no</td>\n",
              "      <td>southeast</td>\n",
              "      <td>4449.46200</td>\n",
              "      <td>1</td>\n",
              "      <td>0</td>\n",
              "      <td>0</td>\n",
              "      <td>1</td>\n",
              "      <td>0</td>\n",
              "    </tr>\n",
              "    <tr>\n",
              "      <th>3</th>\n",
              "      <td>33</td>\n",
              "      <td>male</td>\n",
              "      <td>22.705</td>\n",
              "      <td>0</td>\n",
              "      <td>no</td>\n",
              "      <td>northwest</td>\n",
              "      <td>21984.47061</td>\n",
              "      <td>1</td>\n",
              "      <td>0</td>\n",
              "      <td>1</td>\n",
              "      <td>0</td>\n",
              "      <td>0</td>\n",
              "    </tr>\n",
              "    <tr>\n",
              "      <th>4</th>\n",
              "      <td>32</td>\n",
              "      <td>male</td>\n",
              "      <td>28.880</td>\n",
              "      <td>0</td>\n",
              "      <td>no</td>\n",
              "      <td>northwest</td>\n",
              "      <td>3866.85520</td>\n",
              "      <td>1</td>\n",
              "      <td>0</td>\n",
              "      <td>1</td>\n",
              "      <td>0</td>\n",
              "      <td>0</td>\n",
              "    </tr>\n",
              "  </tbody>\n",
              "</table>\n",
              "</div>"
            ],
            "text/plain": [
              "   age     sex     bmi  children smoker     region      charges  sex_male  \\\n",
              "0   19  female  27.900         0    yes  southwest  16884.92400         0   \n",
              "1   18    male  33.770         1     no  southeast   1725.55230         1   \n",
              "2   28    male  33.000         3     no  southeast   4449.46200         1   \n",
              "3   33    male  22.705         0     no  northwest  21984.47061         1   \n",
              "4   32    male  28.880         0     no  northwest   3866.85520         1   \n",
              "\n",
              "   smoker_yes  region_northwest  region_southeast  region_southwest  \n",
              "0           1                 0                 0                 1  \n",
              "1           0                 0                 1                 0  \n",
              "2           0                 0                 1                 0  \n",
              "3           0                 1                 0                 0  \n",
              "4           0                 1                 0                 0  "
            ]
          },
          "execution_count": 15,
          "metadata": {},
          "output_type": "execute_result"
        }
      ],
      "source": [
        "df2.head()"
      ]
    },
    {
      "cell_type": "code",
      "execution_count": null,
      "id": "db74f476",
      "metadata": {
        "id": "db74f476",
        "outputId": "ac35d8e4-0303-4c16-9650-56b813badf73"
      },
      "outputs": [
        {
          "data": {
            "text/plain": [
              "age                 False\n",
              "sex                 False\n",
              "bmi                 False\n",
              "children            False\n",
              "smoker              False\n",
              "region              False\n",
              "charges             False\n",
              "sex_male            False\n",
              "smoker_yes          False\n",
              "region_northwest    False\n",
              "region_southeast    False\n",
              "region_southwest    False\n",
              "dtype: bool"
            ]
          },
          "execution_count": 16,
          "metadata": {},
          "output_type": "execute_result"
        }
      ],
      "source": [
        "df2.isnull().any()"
      ]
    },
    {
      "cell_type": "code",
      "execution_count": null,
      "id": "0691fea3",
      "metadata": {
        "id": "0691fea3"
      },
      "outputs": [],
      "source": [
        "df3 = df2.drop(['sex','smoker','region'],axis = 1)"
      ]
    },
    {
      "cell_type": "code",
      "execution_count": null,
      "id": "8e61498c",
      "metadata": {
        "id": "8e61498c",
        "outputId": "6642606a-a53f-406c-e575-901bf0a7df8e"
      },
      "outputs": [
        {
          "data": {
            "text/html": [
              "<div>\n",
              "<style scoped>\n",
              "    .dataframe tbody tr th:only-of-type {\n",
              "        vertical-align: middle;\n",
              "    }\n",
              "\n",
              "    .dataframe tbody tr th {\n",
              "        vertical-align: top;\n",
              "    }\n",
              "\n",
              "    .dataframe thead th {\n",
              "        text-align: right;\n",
              "    }\n",
              "</style>\n",
              "<table border=\"1\" class=\"dataframe\">\n",
              "  <thead>\n",
              "    <tr style=\"text-align: right;\">\n",
              "      <th></th>\n",
              "      <th>age</th>\n",
              "      <th>bmi</th>\n",
              "      <th>children</th>\n",
              "      <th>charges</th>\n",
              "      <th>sex_male</th>\n",
              "      <th>smoker_yes</th>\n",
              "      <th>region_northwest</th>\n",
              "      <th>region_southeast</th>\n",
              "      <th>region_southwest</th>\n",
              "    </tr>\n",
              "  </thead>\n",
              "  <tbody>\n",
              "    <tr>\n",
              "      <th>0</th>\n",
              "      <td>19</td>\n",
              "      <td>27.900</td>\n",
              "      <td>0</td>\n",
              "      <td>16884.92400</td>\n",
              "      <td>0</td>\n",
              "      <td>1</td>\n",
              "      <td>0</td>\n",
              "      <td>0</td>\n",
              "      <td>1</td>\n",
              "    </tr>\n",
              "    <tr>\n",
              "      <th>1</th>\n",
              "      <td>18</td>\n",
              "      <td>33.770</td>\n",
              "      <td>1</td>\n",
              "      <td>1725.55230</td>\n",
              "      <td>1</td>\n",
              "      <td>0</td>\n",
              "      <td>0</td>\n",
              "      <td>1</td>\n",
              "      <td>0</td>\n",
              "    </tr>\n",
              "    <tr>\n",
              "      <th>2</th>\n",
              "      <td>28</td>\n",
              "      <td>33.000</td>\n",
              "      <td>3</td>\n",
              "      <td>4449.46200</td>\n",
              "      <td>1</td>\n",
              "      <td>0</td>\n",
              "      <td>0</td>\n",
              "      <td>1</td>\n",
              "      <td>0</td>\n",
              "    </tr>\n",
              "    <tr>\n",
              "      <th>3</th>\n",
              "      <td>33</td>\n",
              "      <td>22.705</td>\n",
              "      <td>0</td>\n",
              "      <td>21984.47061</td>\n",
              "      <td>1</td>\n",
              "      <td>0</td>\n",
              "      <td>1</td>\n",
              "      <td>0</td>\n",
              "      <td>0</td>\n",
              "    </tr>\n",
              "    <tr>\n",
              "      <th>4</th>\n",
              "      <td>32</td>\n",
              "      <td>28.880</td>\n",
              "      <td>0</td>\n",
              "      <td>3866.85520</td>\n",
              "      <td>1</td>\n",
              "      <td>0</td>\n",
              "      <td>1</td>\n",
              "      <td>0</td>\n",
              "      <td>0</td>\n",
              "    </tr>\n",
              "  </tbody>\n",
              "</table>\n",
              "</div>"
            ],
            "text/plain": [
              "   age     bmi  children      charges  sex_male  smoker_yes  region_northwest  \\\n",
              "0   19  27.900         0  16884.92400         0           1                 0   \n",
              "1   18  33.770         1   1725.55230         1           0                 0   \n",
              "2   28  33.000         3   4449.46200         1           0                 0   \n",
              "3   33  22.705         0  21984.47061         1           0                 1   \n",
              "4   32  28.880         0   3866.85520         1           0                 1   \n",
              "\n",
              "   region_southeast  region_southwest  \n",
              "0                 0                 1  \n",
              "1                 1                 0  \n",
              "2                 1                 0  \n",
              "3                 0                 0  \n",
              "4                 0                 0  "
            ]
          },
          "execution_count": 18,
          "metadata": {},
          "output_type": "execute_result"
        }
      ],
      "source": [
        "df3.head()"
      ]
    },
    {
      "cell_type": "code",
      "execution_count": null,
      "id": "b0e95b9a",
      "metadata": {
        "id": "b0e95b9a"
      },
      "outputs": [],
      "source": []
    },
    {
      "cell_type": "markdown",
      "id": "b850b124",
      "metadata": {
        "id": "b850b124"
      },
      "source": [
        "# Data Visulizaiontion"
      ]
    },
    {
      "cell_type": "code",
      "execution_count": null,
      "id": "08291b40",
      "metadata": {
        "id": "08291b40"
      },
      "outputs": [],
      "source": []
    },
    {
      "cell_type": "markdown",
      "id": "3492736d",
      "metadata": {
        "id": "3492736d"
      },
      "source": [
        "Below we visualize the non categorical data (age, bmi, children ) to observe the distribution"
      ]
    },
    {
      "cell_type": "code",
      "execution_count": null,
      "id": "f1da7f78",
      "metadata": {
        "id": "f1da7f78",
        "outputId": "ecc440b6-52eb-463d-98a5-0b1bb3132b2f"
      },
      "outputs": [
        {
          "data": {
            "text/html": [
              "<div>\n",
              "<style scoped>\n",
              "    .dataframe tbody tr th:only-of-type {\n",
              "        vertical-align: middle;\n",
              "    }\n",
              "\n",
              "    .dataframe tbody tr th {\n",
              "        vertical-align: top;\n",
              "    }\n",
              "\n",
              "    .dataframe thead th {\n",
              "        text-align: right;\n",
              "    }\n",
              "</style>\n",
              "<table border=\"1\" class=\"dataframe\">\n",
              "  <thead>\n",
              "    <tr style=\"text-align: right;\">\n",
              "      <th></th>\n",
              "      <th>age</th>\n",
              "      <th>bmi</th>\n",
              "      <th>children</th>\n",
              "      <th>charges</th>\n",
              "      <th>sex_male</th>\n",
              "      <th>smoker_yes</th>\n",
              "      <th>region_northwest</th>\n",
              "      <th>region_southeast</th>\n",
              "      <th>region_southwest</th>\n",
              "    </tr>\n",
              "  </thead>\n",
              "  <tbody>\n",
              "    <tr>\n",
              "      <th>0</th>\n",
              "      <td>19</td>\n",
              "      <td>27.900</td>\n",
              "      <td>0</td>\n",
              "      <td>16884.92400</td>\n",
              "      <td>0</td>\n",
              "      <td>1</td>\n",
              "      <td>0</td>\n",
              "      <td>0</td>\n",
              "      <td>1</td>\n",
              "    </tr>\n",
              "    <tr>\n",
              "      <th>1</th>\n",
              "      <td>18</td>\n",
              "      <td>33.770</td>\n",
              "      <td>1</td>\n",
              "      <td>1725.55230</td>\n",
              "      <td>1</td>\n",
              "      <td>0</td>\n",
              "      <td>0</td>\n",
              "      <td>1</td>\n",
              "      <td>0</td>\n",
              "    </tr>\n",
              "    <tr>\n",
              "      <th>2</th>\n",
              "      <td>28</td>\n",
              "      <td>33.000</td>\n",
              "      <td>3</td>\n",
              "      <td>4449.46200</td>\n",
              "      <td>1</td>\n",
              "      <td>0</td>\n",
              "      <td>0</td>\n",
              "      <td>1</td>\n",
              "      <td>0</td>\n",
              "    </tr>\n",
              "    <tr>\n",
              "      <th>3</th>\n",
              "      <td>33</td>\n",
              "      <td>22.705</td>\n",
              "      <td>0</td>\n",
              "      <td>21984.47061</td>\n",
              "      <td>1</td>\n",
              "      <td>0</td>\n",
              "      <td>1</td>\n",
              "      <td>0</td>\n",
              "      <td>0</td>\n",
              "    </tr>\n",
              "    <tr>\n",
              "      <th>4</th>\n",
              "      <td>32</td>\n",
              "      <td>28.880</td>\n",
              "      <td>0</td>\n",
              "      <td>3866.85520</td>\n",
              "      <td>1</td>\n",
              "      <td>0</td>\n",
              "      <td>1</td>\n",
              "      <td>0</td>\n",
              "      <td>0</td>\n",
              "    </tr>\n",
              "  </tbody>\n",
              "</table>\n",
              "</div>"
            ],
            "text/plain": [
              "   age     bmi  children      charges  sex_male  smoker_yes  region_northwest  \\\n",
              "0   19  27.900         0  16884.92400         0           1                 0   \n",
              "1   18  33.770         1   1725.55230         1           0                 0   \n",
              "2   28  33.000         3   4449.46200         1           0                 0   \n",
              "3   33  22.705         0  21984.47061         1           0                 1   \n",
              "4   32  28.880         0   3866.85520         1           0                 1   \n",
              "\n",
              "   region_southeast  region_southwest  \n",
              "0                 0                 1  \n",
              "1                 1                 0  \n",
              "2                 1                 0  \n",
              "3                 0                 0  \n",
              "4                 0                 0  "
            ]
          },
          "execution_count": 19,
          "metadata": {},
          "output_type": "execute_result"
        }
      ],
      "source": [
        "df3.head()"
      ]
    },
    {
      "cell_type": "code",
      "execution_count": null,
      "id": "376850bd",
      "metadata": {
        "id": "376850bd",
        "outputId": "f4ef5501-a0d9-4a88-ec07-b7556a1f727e"
      },
      "outputs": [
        {
          "data": {
            "text/plain": [
              "Text(0.5, 0, 'Children')"
            ]
          },
          "execution_count": 160,
          "metadata": {},
          "output_type": "execute_result"
        },
        {
          "data": {
            "image/png": "[encoded data removed]",
            "text/plain": [
              "<Figure size 2000x1500 with 3 Axes>"
            ]
          },
          "metadata": {},
          "output_type": "display_data"
        }
      ],
      "source": [
        "sns.set()\n",
        "plt.figure(figsize = (20,15))\n",
        "plt.subplot(3,3,1)\n",
        "sns.histplot(df3.age, color = 'b',kde=True,alpha=0.7); plt.xlabel('Age')\n",
        "plt.subplot(3,3,2)\n",
        "sns.histplot(df3.bmi,color = 'b',kde=True,alpha=0.7); plt.xlabel('BMI')\n",
        "plt.subplot(3,3,3)\n",
        "sns.histplot(df3.children,color = 'b',kde=True,alpha=0.7); plt.xlabel('Children')\n"
      ]
    },
    {
      "cell_type": "markdown",
      "id": "5a55c9fd",
      "metadata": {
        "id": "5a55c9fd"
      },
      "source": [
        "### Heat Map"
      ]
    },
    {
      "cell_type": "code",
      "execution_count": null,
      "id": "8be39616",
      "metadata": {
        "id": "8be39616",
        "outputId": "a285e272-5e26-4d91-aaa6-779d7424c907"
      },
      "outputs": [
        {
          "data": {
            "image/png": "[encoded data removed]",
            "text/plain": [
              "<Figure size 1000x800 with 2 Axes>"
            ]
          },
          "metadata": {},
          "output_type": "display_data"
        }
      ],
      "source": [
        "# display the correlation matrix in the heatmap, it will help in feature selection\n",
        "corr = df3.corr()\n",
        "plt.figure(figsize=(10,8))\n",
        "sns.heatmap(data=corr, annot=True,cmap='viridis');"
      ]
    },
    {
      "cell_type": "markdown",
      "id": "b0debe36",
      "metadata": {
        "id": "b0debe36"
      },
      "source": [
        "### Skewnesss and its removal"
      ]
    },
    {
      "cell_type": "code",
      "execution_count": null,
      "id": "880e7a80",
      "metadata": {
        "id": "880e7a80"
      },
      "outputs": [],
      "source": [
        "from scipy.stats import skew"
      ]
    },
    {
      "cell_type": "code",
      "execution_count": null,
      "id": "c5c7c071",
      "metadata": {
        "id": "c5c7c071"
      },
      "outputs": [],
      "source": [
        "skew_dict = {}\n",
        "for col in df3:\n",
        "    skewness = skew(df3[col])\n",
        "    skew_dict[col] = skewness\n",
        "   \n",
        "skew_df = pd.DataFrame.from_dict(skew_dict, orient='index', columns=['Skewness'])"
      ]
    },
    {
      "cell_type": "code",
      "execution_count": null,
      "id": "27695e39",
      "metadata": {
        "id": "27695e39",
        "outputId": "8d4b472b-df8c-485e-eb9b-3ada772a458d"
      },
      "outputs": [
        {
          "data": {
            "text/plain": [
              "pandas.core.frame.DataFrame"
            ]
          },
          "execution_count": 55,
          "metadata": {},
          "output_type": "execute_result"
        }
      ],
      "source": [
        "type(skew_df)"
      ]
    },
    {
      "cell_type": "code",
      "execution_count": null,
      "id": "53a2169c",
      "metadata": {
        "id": "53a2169c",
        "outputId": "a0df2cc4-78ec-4054-f2b9-aea0af9e541e"
      },
      "outputs": [
        {
          "data": {
            "text/html": [
              "<div>\n",
              "<style scoped>\n",
              "    .dataframe tbody tr th:only-of-type {\n",
              "        vertical-align: middle;\n",
              "    }\n",
              "\n",
              "    .dataframe tbody tr th {\n",
              "        vertical-align: top;\n",
              "    }\n",
              "\n",
              "    .dataframe thead th {\n",
              "        text-align: right;\n",
              "    }\n",
              "</style>\n",
              "<table border=\"1\" class=\"dataframe\">\n",
              "  <thead>\n",
              "    <tr style=\"text-align: right;\">\n",
              "      <th></th>\n",
              "      <th>age</th>\n",
              "      <th>bmi</th>\n",
              "      <th>children</th>\n",
              "      <th>charges</th>\n",
              "      <th>sex_male</th>\n",
              "      <th>smoker_yes</th>\n",
              "      <th>region_northwest</th>\n",
              "      <th>region_southeast</th>\n",
              "      <th>region_southwest</th>\n",
              "      <th>Skewness</th>\n",
              "    </tr>\n",
              "  </thead>\n",
              "  <tbody>\n",
              "    <tr>\n",
              "      <th>age</th>\n",
              "      <td>1.000000</td>\n",
              "      <td>0.109272</td>\n",
              "      <td>0.042469</td>\n",
              "      <td>0.299008</td>\n",
              "      <td>-0.020856</td>\n",
              "      <td>-0.025019</td>\n",
              "      <td>-0.000407</td>\n",
              "      <td>-0.011642</td>\n",
              "      <td>0.010016</td>\n",
              "      <td>0.055610</td>\n",
              "    </tr>\n",
              "    <tr>\n",
              "      <th>bmi</th>\n",
              "      <td>0.109272</td>\n",
              "      <td>1.000000</td>\n",
              "      <td>0.012759</td>\n",
              "      <td>0.198341</td>\n",
              "      <td>0.046371</td>\n",
              "      <td>0.003750</td>\n",
              "      <td>-0.135996</td>\n",
              "      <td>0.270025</td>\n",
              "      <td>-0.006205</td>\n",
              "      <td>0.283729</td>\n",
              "    </tr>\n",
              "    <tr>\n",
              "      <th>children</th>\n",
              "      <td>0.042469</td>\n",
              "      <td>0.012759</td>\n",
              "      <td>1.000000</td>\n",
              "      <td>0.067998</td>\n",
              "      <td>0.017163</td>\n",
              "      <td>0.007673</td>\n",
              "      <td>0.024806</td>\n",
              "      <td>-0.023066</td>\n",
              "      <td>0.021914</td>\n",
              "      <td>0.937328</td>\n",
              "    </tr>\n",
              "    <tr>\n",
              "      <th>charges</th>\n",
              "      <td>0.299008</td>\n",
              "      <td>0.198341</td>\n",
              "      <td>0.067998</td>\n",
              "      <td>1.000000</td>\n",
              "      <td>0.057292</td>\n",
              "      <td>0.787251</td>\n",
              "      <td>-0.039905</td>\n",
              "      <td>0.073982</td>\n",
              "      <td>-0.043210</td>\n",
              "      <td>1.514180</td>\n",
              "    </tr>\n",
              "    <tr>\n",
              "      <th>sex_male</th>\n",
              "      <td>-0.020856</td>\n",
              "      <td>0.046371</td>\n",
              "      <td>0.017163</td>\n",
              "      <td>0.057292</td>\n",
              "      <td>1.000000</td>\n",
              "      <td>0.076185</td>\n",
              "      <td>-0.011156</td>\n",
              "      <td>0.017117</td>\n",
              "      <td>-0.004184</td>\n",
              "      <td>-0.020928</td>\n",
              "    </tr>\n",
              "    <tr>\n",
              "      <th>smoker_yes</th>\n",
              "      <td>-0.025019</td>\n",
              "      <td>0.003750</td>\n",
              "      <td>0.007673</td>\n",
              "      <td>0.787251</td>\n",
              "      <td>0.076185</td>\n",
              "      <td>1.000000</td>\n",
              "      <td>-0.036945</td>\n",
              "      <td>0.068498</td>\n",
              "      <td>-0.036945</td>\n",
              "      <td>1.463124</td>\n",
              "    </tr>\n",
              "    <tr>\n",
              "      <th>region_northwest</th>\n",
              "      <td>-0.000407</td>\n",
              "      <td>-0.135996</td>\n",
              "      <td>0.024806</td>\n",
              "      <td>-0.039905</td>\n",
              "      <td>-0.011156</td>\n",
              "      <td>-0.036945</td>\n",
              "      <td>1.000000</td>\n",
              "      <td>-0.346265</td>\n",
              "      <td>-0.320829</td>\n",
              "      <td>1.199063</td>\n",
              "    </tr>\n",
              "    <tr>\n",
              "      <th>region_southeast</th>\n",
              "      <td>-0.011642</td>\n",
              "      <td>0.270025</td>\n",
              "      <td>-0.023066</td>\n",
              "      <td>0.073982</td>\n",
              "      <td>0.017117</td>\n",
              "      <td>0.068498</td>\n",
              "      <td>-0.346265</td>\n",
              "      <td>1.000000</td>\n",
              "      <td>-0.346265</td>\n",
              "      <td>1.024471</td>\n",
              "    </tr>\n",
              "    <tr>\n",
              "      <th>region_southwest</th>\n",
              "      <td>0.010016</td>\n",
              "      <td>-0.006205</td>\n",
              "      <td>0.021914</td>\n",
              "      <td>-0.043210</td>\n",
              "      <td>-0.004184</td>\n",
              "      <td>-0.036945</td>\n",
              "      <td>-0.320829</td>\n",
              "      <td>-0.346265</td>\n",
              "      <td>1.000000</td>\n",
              "      <td>1.199063</td>\n",
              "    </tr>\n",
              "  </tbody>\n",
              "</table>\n",
              "</div>"
            ],
            "text/plain": [
              "                       age       bmi  children   charges  sex_male  \\\n",
              "age               1.000000  0.109272  0.042469  0.299008 -0.020856   \n",
              "bmi               0.109272  1.000000  0.012759  0.198341  0.046371   \n",
              "children          0.042469  0.012759  1.000000  0.067998  0.017163   \n",
              "charges           0.299008  0.198341  0.067998  1.000000  0.057292   \n",
              "sex_male         -0.020856  0.046371  0.017163  0.057292  1.000000   \n",
              "smoker_yes       -0.025019  0.003750  0.007673  0.787251  0.076185   \n",
              "region_northwest -0.000407 -0.135996  0.024806 -0.039905 -0.011156   \n",
              "region_southeast -0.011642  0.270025 -0.023066  0.073982  0.017117   \n",
              "region_southwest  0.010016 -0.006205  0.021914 -0.043210 -0.004184   \n",
              "\n",
              "                  smoker_yes  region_northwest  region_southeast  \\\n",
              "age                -0.025019         -0.000407         -0.011642   \n",
              "bmi                 0.003750         -0.135996          0.270025   \n",
              "children            0.007673          0.024806         -0.023066   \n",
              "charges             0.787251         -0.039905          0.073982   \n",
              "sex_male            0.076185         -0.011156          0.017117   \n",
              "smoker_yes          1.000000         -0.036945          0.068498   \n",
              "region_northwest   -0.036945          1.000000         -0.346265   \n",
              "region_southeast    0.068498         -0.346265          1.000000   \n",
              "region_southwest   -0.036945         -0.320829         -0.346265   \n",
              "\n",
              "                  region_southwest  Skewness  \n",
              "age                       0.010016  0.055610  \n",
              "bmi                      -0.006205  0.283729  \n",
              "children                  0.021914  0.937328  \n",
              "charges                  -0.043210  1.514180  \n",
              "sex_male                 -0.004184 -0.020928  \n",
              "smoker_yes               -0.036945  1.463124  \n",
              "region_northwest         -0.320829  1.199063  \n",
              "region_southeast         -0.346265  1.024471  \n",
              "region_southwest          1.000000  1.199063  "
            ]
          },
          "execution_count": 57,
          "metadata": {},
          "output_type": "execute_result"
        }
      ],
      "source": [
        "corr_skew = pd.concat([corr,skew_df],axis=1)\n",
        "corr_skew"
      ]
    },
    {
      "cell_type": "markdown",
      "id": "07d692ed",
      "metadata": {
        "id": "07d692ed"
      },
      "source": [
        "From the above data frame, it is obvious that 'children' has littel correlation with 'charges' but highly skewed. Since 'children' contains count data, so right now we keep as it is."
      ]
    },
    {
      "cell_type": "markdown",
      "id": "b42b2ad9",
      "metadata": {
        "id": "b42b2ad9"
      },
      "source": [
        "### Deviding the data into features (x) and tartget (y)"
      ]
    },
    {
      "cell_type": "code",
      "execution_count": null,
      "id": "16d22d62",
      "metadata": {
        "id": "16d22d62",
        "outputId": "71b05bf1-393d-4245-ad52-efa0f0aa0ca7"
      },
      "outputs": [
        {
          "data": {
            "text/html": [
              "<div>\n",
              "<style scoped>\n",
              "    .dataframe tbody tr th:only-of-type {\n",
              "        vertical-align: middle;\n",
              "    }\n",
              "\n",
              "    .dataframe tbody tr th {\n",
              "        vertical-align: top;\n",
              "    }\n",
              "\n",
              "    .dataframe thead th {\n",
              "        text-align: right;\n",
              "    }\n",
              "</style>\n",
              "<table border=\"1\" class=\"dataframe\">\n",
              "  <thead>\n",
              "    <tr style=\"text-align: right;\">\n",
              "      <th></th>\n",
              "      <th>age</th>\n",
              "      <th>bmi</th>\n",
              "      <th>children</th>\n",
              "      <th>charges</th>\n",
              "      <th>sex_male</th>\n",
              "      <th>smoker_yes</th>\n",
              "      <th>region_northwest</th>\n",
              "      <th>region_southeast</th>\n",
              "      <th>region_southwest</th>\n",
              "    </tr>\n",
              "  </thead>\n",
              "  <tbody>\n",
              "    <tr>\n",
              "      <th>0</th>\n",
              "      <td>19</td>\n",
              "      <td>27.900</td>\n",
              "      <td>0</td>\n",
              "      <td>16884.92400</td>\n",
              "      <td>0</td>\n",
              "      <td>1</td>\n",
              "      <td>0</td>\n",
              "      <td>0</td>\n",
              "      <td>1</td>\n",
              "    </tr>\n",
              "    <tr>\n",
              "      <th>1</th>\n",
              "      <td>18</td>\n",
              "      <td>33.770</td>\n",
              "      <td>1</td>\n",
              "      <td>1725.55230</td>\n",
              "      <td>1</td>\n",
              "      <td>0</td>\n",
              "      <td>0</td>\n",
              "      <td>1</td>\n",
              "      <td>0</td>\n",
              "    </tr>\n",
              "    <tr>\n",
              "      <th>2</th>\n",
              "      <td>28</td>\n",
              "      <td>33.000</td>\n",
              "      <td>3</td>\n",
              "      <td>4449.46200</td>\n",
              "      <td>1</td>\n",
              "      <td>0</td>\n",
              "      <td>0</td>\n",
              "      <td>1</td>\n",
              "      <td>0</td>\n",
              "    </tr>\n",
              "    <tr>\n",
              "      <th>3</th>\n",
              "      <td>33</td>\n",
              "      <td>22.705</td>\n",
              "      <td>0</td>\n",
              "      <td>21984.47061</td>\n",
              "      <td>1</td>\n",
              "      <td>0</td>\n",
              "      <td>1</td>\n",
              "      <td>0</td>\n",
              "      <td>0</td>\n",
              "    </tr>\n",
              "    <tr>\n",
              "      <th>4</th>\n",
              "      <td>32</td>\n",
              "      <td>28.880</td>\n",
              "      <td>0</td>\n",
              "      <td>3866.85520</td>\n",
              "      <td>1</td>\n",
              "      <td>0</td>\n",
              "      <td>1</td>\n",
              "      <td>0</td>\n",
              "      <td>0</td>\n",
              "    </tr>\n",
              "  </tbody>\n",
              "</table>\n",
              "</div>"
            ],
            "text/plain": [
              "   age     bmi  children      charges  sex_male  smoker_yes  region_northwest  \\\n",
              "0   19  27.900         0  16884.92400         0           1                 0   \n",
              "1   18  33.770         1   1725.55230         1           0                 0   \n",
              "2   28  33.000         3   4449.46200         1           0                 0   \n",
              "3   33  22.705         0  21984.47061         1           0                 1   \n",
              "4   32  28.880         0   3866.85520         1           0                 1   \n",
              "\n",
              "   region_southeast  region_southwest  \n",
              "0                 0                 1  \n",
              "1                 1                 0  \n",
              "2                 1                 0  \n",
              "3                 0                 0  \n",
              "4                 0                 0  "
            ]
          },
          "execution_count": 115,
          "metadata": {},
          "output_type": "execute_result"
        }
      ],
      "source": [
        "df3.head()"
      ]
    },
    {
      "cell_type": "code",
      "execution_count": null,
      "id": "7599c8bd",
      "metadata": {
        "id": "7599c8bd",
        "outputId": "3753d3b7-84b5-4a30-adfa-03b3dbb3cf0c"
      },
      "outputs": [
        {
          "data": {
            "text/html": [
              "<div>\n",
              "<style scoped>\n",
              "    .dataframe tbody tr th:only-of-type {\n",
              "        vertical-align: middle;\n",
              "    }\n",
              "\n",
              "    .dataframe tbody tr th {\n",
              "        vertical-align: top;\n",
              "    }\n",
              "\n",
              "    .dataframe thead th {\n",
              "        text-align: right;\n",
              "    }\n",
              "</style>\n",
              "<table border=\"1\" class=\"dataframe\">\n",
              "  <thead>\n",
              "    <tr style=\"text-align: right;\">\n",
              "      <th></th>\n",
              "      <th>age</th>\n",
              "      <th>bmi</th>\n",
              "      <th>children</th>\n",
              "      <th>sex_male</th>\n",
              "      <th>smoker_yes</th>\n",
              "      <th>region_northwest</th>\n",
              "      <th>region_southeast</th>\n",
              "      <th>region_southwest</th>\n",
              "    </tr>\n",
              "  </thead>\n",
              "  <tbody>\n",
              "    <tr>\n",
              "      <th>0</th>\n",
              "      <td>19</td>\n",
              "      <td>27.900</td>\n",
              "      <td>0</td>\n",
              "      <td>0</td>\n",
              "      <td>1</td>\n",
              "      <td>0</td>\n",
              "      <td>0</td>\n",
              "      <td>1</td>\n",
              "    </tr>\n",
              "    <tr>\n",
              "      <th>1</th>\n",
              "      <td>18</td>\n",
              "      <td>33.770</td>\n",
              "      <td>1</td>\n",
              "      <td>1</td>\n",
              "      <td>0</td>\n",
              "      <td>0</td>\n",
              "      <td>1</td>\n",
              "      <td>0</td>\n",
              "    </tr>\n",
              "    <tr>\n",
              "      <th>2</th>\n",
              "      <td>28</td>\n",
              "      <td>33.000</td>\n",
              "      <td>3</td>\n",
              "      <td>1</td>\n",
              "      <td>0</td>\n",
              "      <td>0</td>\n",
              "      <td>1</td>\n",
              "      <td>0</td>\n",
              "    </tr>\n",
              "    <tr>\n",
              "      <th>3</th>\n",
              "      <td>33</td>\n",
              "      <td>22.705</td>\n",
              "      <td>0</td>\n",
              "      <td>1</td>\n",
              "      <td>0</td>\n",
              "      <td>1</td>\n",
              "      <td>0</td>\n",
              "      <td>0</td>\n",
              "    </tr>\n",
              "    <tr>\n",
              "      <th>4</th>\n",
              "      <td>32</td>\n",
              "      <td>28.880</td>\n",
              "      <td>0</td>\n",
              "      <td>1</td>\n",
              "      <td>0</td>\n",
              "      <td>1</td>\n",
              "      <td>0</td>\n",
              "      <td>0</td>\n",
              "    </tr>\n",
              "    <tr>\n",
              "      <th>...</th>\n",
              "      <td>...</td>\n",
              "      <td>...</td>\n",
              "      <td>...</td>\n",
              "      <td>...</td>\n",
              "      <td>...</td>\n",
              "      <td>...</td>\n",
              "      <td>...</td>\n",
              "      <td>...</td>\n",
              "    </tr>\n",
              "    <tr>\n",
              "      <th>1333</th>\n",
              "      <td>50</td>\n",
              "      <td>30.970</td>\n",
              "      <td>3</td>\n",
              "      <td>1</td>\n",
              "      <td>0</td>\n",
              "      <td>1</td>\n",
              "      <td>0</td>\n",
              "      <td>0</td>\n",
              "    </tr>\n",
              "    <tr>\n",
              "      <th>1334</th>\n",
              "      <td>18</td>\n",
              "      <td>31.920</td>\n",
              "      <td>0</td>\n",
              "      <td>0</td>\n",
              "      <td>0</td>\n",
              "      <td>0</td>\n",
              "      <td>0</td>\n",
              "      <td>0</td>\n",
              "    </tr>\n",
              "    <tr>\n",
              "      <th>1335</th>\n",
              "      <td>18</td>\n",
              "      <td>36.850</td>\n",
              "      <td>0</td>\n",
              "      <td>0</td>\n",
              "      <td>0</td>\n",
              "      <td>0</td>\n",
              "      <td>1</td>\n",
              "      <td>0</td>\n",
              "    </tr>\n",
              "    <tr>\n",
              "      <th>1336</th>\n",
              "      <td>21</td>\n",
              "      <td>25.800</td>\n",
              "      <td>0</td>\n",
              "      <td>0</td>\n",
              "      <td>0</td>\n",
              "      <td>0</td>\n",
              "      <td>0</td>\n",
              "      <td>1</td>\n",
              "    </tr>\n",
              "    <tr>\n",
              "      <th>1337</th>\n",
              "      <td>61</td>\n",
              "      <td>29.070</td>\n",
              "      <td>0</td>\n",
              "      <td>0</td>\n",
              "      <td>1</td>\n",
              "      <td>1</td>\n",
              "      <td>0</td>\n",
              "      <td>0</td>\n",
              "    </tr>\n",
              "  </tbody>\n",
              "</table>\n",
              "<p>1338 rows × 8 columns</p>\n",
              "</div>"
            ],
            "text/plain": [
              "      age     bmi  children  sex_male  smoker_yes  region_northwest  \\\n",
              "0      19  27.900         0         0           1                 0   \n",
              "1      18  33.770         1         1           0                 0   \n",
              "2      28  33.000         3         1           0                 0   \n",
              "3      33  22.705         0         1           0                 1   \n",
              "4      32  28.880         0         1           0                 1   \n",
              "...   ...     ...       ...       ...         ...               ...   \n",
              "1333   50  30.970         3         1           0                 1   \n",
              "1334   18  31.920         0         0           0                 0   \n",
              "1335   18  36.850         0         0           0                 0   \n",
              "1336   21  25.800         0         0           0                 0   \n",
              "1337   61  29.070         0         0           1                 1   \n",
              "\n",
              "      region_southeast  region_southwest  \n",
              "0                    0                 1  \n",
              "1                    1                 0  \n",
              "2                    1                 0  \n",
              "3                    0                 0  \n",
              "4                    0                 0  \n",
              "...                ...               ...  \n",
              "1333                 0                 0  \n",
              "1334                 0                 0  \n",
              "1335                 1                 0  \n",
              "1336                 0                 1  \n",
              "1337                 0                 0  \n",
              "\n",
              "[1338 rows x 8 columns]"
            ]
          },
          "execution_count": 117,
          "metadata": {},
          "output_type": "execute_result"
        }
      ],
      "source": [
        "#Features\n",
        "x = df3.drop('charges',axis=1)\n",
        "x"
      ]
    },
    {
      "cell_type": "code",
      "execution_count": null,
      "id": "ef3bc28d",
      "metadata": {
        "id": "ef3bc28d"
      },
      "outputs": [],
      "source": [
        "# Target\n",
        "y=df3['charges']"
      ]
    },
    {
      "cell_type": "code",
      "execution_count": null,
      "id": "7d48cec9",
      "metadata": {
        "id": "7d48cec9",
        "outputId": "a5c978f8-4e4b-4ad5-c27a-ed06ad7bee6d"
      },
      "outputs": [
        {
          "data": {
            "text/plain": [
              "(1338,)"
            ]
          },
          "execution_count": 120,
          "metadata": {},
          "output_type": "execute_result"
        }
      ],
      "source": [
        "y.shape"
      ]
    },
    {
      "cell_type": "markdown",
      "id": "40964c20",
      "metadata": {
        "id": "40964c20"
      },
      "source": [
        "### Deviding into Train and Test data"
      ]
    },
    {
      "cell_type": "code",
      "execution_count": null,
      "id": "e1540462",
      "metadata": {
        "id": "e1540462"
      },
      "outputs": [],
      "source": [
        "from sklearn.model_selection import train_test_split\n",
        "x_train,x_test,y_train,y_test = train_test_split(x,y,test_size = 0.3, random_state = 42)"
      ]
    },
    {
      "cell_type": "markdown",
      "id": "59984986",
      "metadata": {
        "id": "59984986"
      },
      "source": [
        "### Normalization of Data"
      ]
    },
    {
      "cell_type": "code",
      "execution_count": null,
      "id": "4fe418e9",
      "metadata": {
        "id": "4fe418e9"
      },
      "outputs": [],
      "source": [
        "# Standard Scalar\n",
        "from sklearn.preprocessing import StandardScaler\n",
        "scaler = StandardScaler()\n",
        "x_train_ss = scaler.fit_transform(x_train)\n",
        "x_test_ss = scaler.fit_transform(x_test)\n"
      ]
    },
    {
      "cell_type": "code",
      "execution_count": null,
      "id": "6ee29e31",
      "metadata": {
        "id": "6ee29e31"
      },
      "outputs": [],
      "source": [
        "# MinMax\n",
        "from sklearn.preprocessing import MinMaxScaler\n",
        "scal = MinMaxScaler()\n",
        "x_train_mm=scal.fit_transform(x_train)\n",
        "x_test_mm=scal.fit_transform(x_test)\n",
        "\n"
      ]
    },
    {
      "cell_type": "markdown",
      "id": "32cd717b",
      "metadata": {
        "id": "32cd717b"
      },
      "source": [
        "# Model Training"
      ]
    },
    {
      "cell_type": "code",
      "execution_count": null,
      "id": "b8a7f3e7",
      "metadata": {
        "id": "b8a7f3e7",
        "outputId": "0866a6e1-ccf0-4213-f22d-82426e9ec16c"
      },
      "outputs": [
        {
          "ename": "TypeError",
          "evalue": "__init__() got an unexpected keyword argument 'verbose'",
          "output_type": "error",
          "traceback": [
            "\u001b[1;31m---------------------------------------------------------------------------\u001b[0m",
            "\u001b[1;31mTypeError\u001b[0m                                 Traceback (most recent call last)",
            "\u001b[1;32m~\\AppData\\Local\\Temp\\ipykernel_15028\\2625188576.py\u001b[0m in \u001b[0;36m<module>\u001b[1;34m\u001b[0m\n\u001b[0;32m      1\u001b[0m \u001b[1;32mfrom\u001b[0m \u001b[0msklearn\u001b[0m\u001b[1;33m.\u001b[0m\u001b[0mlinear_model\u001b[0m \u001b[1;32mimport\u001b[0m \u001b[0mLinearRegression\u001b[0m\u001b[1;33m\u001b[0m\u001b[1;33m\u001b[0m\u001b[0m\n\u001b[1;32m----> 2\u001b[1;33m \u001b[0ml_rg\u001b[0m \u001b[1;33m=\u001b[0m \u001b[0mLinearRegression\u001b[0m\u001b[1;33m(\u001b[0m\u001b[0mverbose\u001b[0m \u001b[1;33m=\u001b[0m \u001b[1;32mTrue\u001b[0m\u001b[1;33m)\u001b[0m\u001b[1;33m\u001b[0m\u001b[1;33m\u001b[0m\u001b[0m\n\u001b[0m\u001b[0;32m      3\u001b[0m \u001b[1;31m## with standard scalar scaling\u001b[0m\u001b[1;33m\u001b[0m\u001b[1;33m\u001b[0m\u001b[0m\n\u001b[0;32m      4\u001b[0m \u001b[0ml_rg\u001b[0m\u001b[1;33m.\u001b[0m\u001b[0mfit\u001b[0m\u001b[1;33m(\u001b[0m\u001b[0mx_train_ss\u001b[0m\u001b[1;33m,\u001b[0m\u001b[0my_train\u001b[0m\u001b[1;33m)\u001b[0m\u001b[1;33m\u001b[0m\u001b[1;33m\u001b[0m\u001b[0m\n",
            "\u001b[1;31mTypeError\u001b[0m: __init__() got an unexpected keyword argument 'verbose'"
          ]
        }
      ],
      "source": [
        "from sklearn.linear_model import LinearRegression\n",
        "l_rg = LinearRegression(verbose = True)\n",
        "## with standard scalar scaling\n",
        "l_rg.fit(x_train_ss,y_train)\n"
      ]
    },
    {
      "cell_type": "code",
      "execution_count": null,
      "id": "be15cd23",
      "metadata": {
        "id": "be15cd23",
        "outputId": "607fdec5-b1ac-4a19-adb6-66ca24674af6"
      },
      "outputs": [
        {
          "data": {
            "text/plain": [
              "0.7694284637867439"
            ]
          },
          "execution_count": 136,
          "metadata": {},
          "output_type": "execute_result"
        }
      ],
      "source": [
        "l_rg.score(x_test_ss,y_test)"
      ]
    },
    {
      "cell_type": "code",
      "execution_count": null,
      "id": "8e59fd92",
      "metadata": {
        "id": "8e59fd92",
        "outputId": "744028cc-6096-4de5-8633-100fec461e5b"
      },
      "outputs": [
        {
          "data": {
            "text/plain": [
              "LinearRegression()"
            ]
          },
          "execution_count": 141,
          "metadata": {},
          "output_type": "execute_result"
        }
      ],
      "source": [
        "## with min max scaling\n",
        "l_rg.fit(x_train_mm,y_train)"
      ]
    },
    {
      "cell_type": "code",
      "execution_count": null,
      "id": "5a22d4ae",
      "metadata": {
        "id": "5a22d4ae",
        "outputId": "4fb5fa08-53ef-48ef-dbc5-6b1374cc9cd1"
      },
      "outputs": [
        {
          "data": {
            "text/plain": [
              "0.769394771886804"
            ]
          },
          "execution_count": 142,
          "metadata": {},
          "output_type": "execute_result"
        }
      ],
      "source": [
        "l_rg.score(x_test_mm,y_test)"
      ]
    },
    {
      "cell_type": "code",
      "execution_count": null,
      "id": "54419546",
      "metadata": {
        "id": "54419546"
      },
      "outputs": [],
      "source": [
        "## without scaling"
      ]
    },
    {
      "cell_type": "code",
      "execution_count": null,
      "id": "b2cbd84e",
      "metadata": {
        "id": "b2cbd84e",
        "outputId": "8c730b2f-923a-4df6-c85e-7bc5a5b0d7d6"
      },
      "outputs": [
        {
          "data": {
            "text/plain": [
              "LinearRegression()"
            ]
          },
          "execution_count": 144,
          "metadata": {},
          "output_type": "execute_result"
        }
      ],
      "source": [
        "l_rg.fit(x_train,y_train)"
      ]
    },
    {
      "cell_type": "code",
      "execution_count": null,
      "id": "2376e536",
      "metadata": {
        "id": "2376e536",
        "outputId": "68d8ce6d-f5d4-42cc-ec62-74daee6d6d63"
      },
      "outputs": [
        {
          "data": {
            "text/plain": [
              "0.7696118054369012"
            ]
          },
          "execution_count": 145,
          "metadata": {},
          "output_type": "execute_result"
        }
      ],
      "source": [
        "l_rg.score(x_test,y_test)"
      ]
    },
    {
      "cell_type": "code",
      "execution_count": null,
      "id": "82912713",
      "metadata": {
        "id": "82912713",
        "outputId": "92ee9f6a-8909-4fe1-abad-2af53cc02a91"
      },
      "outputs": [
        {
          "data": {
            "text/plain": [
              "SGDRegressor()"
            ]
          },
          "execution_count": 158,
          "metadata": {},
          "output_type": "execute_result"
        }
      ],
      "source": [
        "from sklearn.linear_model import SGDRegressor\n",
        "regressor = SGDRegressor()\n",
        "regressor.fit(x_train_mm,y_train)"
      ]
    },
    {
      "cell_type": "code",
      "execution_count": null,
      "id": "3b87e599",
      "metadata": {
        "id": "3b87e599",
        "outputId": "fc368e90-724b-4e76-8bd4-fac9b043dba4"
      },
      "outputs": [
        {
          "data": {
            "text/plain": [
              "0.7699138233702864"
            ]
          },
          "execution_count": 159,
          "metadata": {},
          "output_type": "execute_result"
        }
      ],
      "source": [
        "regressor.score(x_test_mm,y_test)"
      ]
    },
    {
      "cell_type": "code",
      "execution_count": null,
      "id": "9902ae92",
      "metadata": {
        "id": "9902ae92"
      },
      "outputs": [],
      "source": []
    }
  ],
  "metadata": {
    "kernelspec": {
      "display_name": "Python 3 (ipykernel)",
      "language": "python",
      "name": "python3"
    },
    "language_info": {
      "codemirror_mode": {
        "name": "ipython",
        "version": 3
      },
      "file_extension": ".py",
      "mimetype": "text/x-python",
      "name": "python",
      "nbconvert_exporter": "python",
      "pygments_lexer": "ipython3",
      "version": "3.9.13"
    },
    "colab": {
      "provenance": [],
      "include_colab_link": true
    }
  },
  "nbformat": 4,
  "nbformat_minor": 5
}